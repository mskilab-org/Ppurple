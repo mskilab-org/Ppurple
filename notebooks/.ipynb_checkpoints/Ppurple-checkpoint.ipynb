{
 "cells": [
  {
   "cell_type": "markdown",
   "metadata": {},
   "source": [
    "## Load Ppurple"
   ]
  },
  {
   "cell_type": "code",
   "execution_count": 1,
   "metadata": {
    "collapsed": false
   },
   "outputs": [
    {
     "data": {
      "text/plain": [
       "R version 3.4.1 (2017-06-30)\n",
       "Platform: x86_64-pc-linux-gnu (64-bit)\n",
       "Running under: CentOS Linux 7 (Core)\n",
       "\n",
       "Matrix products: default\n",
       "BLAS: /nfs/sw/R/R-3.4.1/lib64/R/lib/libRblas.so\n",
       "LAPACK: /nfs/sw/R/R-3.4.1/lib64/R/lib/libRlapack.so\n",
       "\n",
       "locale:\n",
       " [1] LC_CTYPE=en_US.UTF-8       LC_NUMERIC=C              \n",
       " [3] LC_TIME=en_US.UTF-8        LC_COLLATE=en_US.UTF-8    \n",
       " [5] LC_MONETARY=en_US.UTF-8    LC_MESSAGES=en_US.UTF-8   \n",
       " [7] LC_PAPER=en_US.UTF-8       LC_NAME=C                 \n",
       " [9] LC_ADDRESS=C               LC_TELEPHONE=C            \n",
       "[11] LC_MEASUREMENT=en_US.UTF-8 LC_IDENTIFICATION=C       \n",
       "\n",
       "attached base packages:\n",
       "[1] stats     graphics  grDevices utils     datasets  methods   base     \n",
       "\n",
       "loaded via a namespace (and not attached):\n",
       " [1] compiler_3.4.1       magrittr_1.5         IRdisplay_0.4.4     \n",
       " [4] pbdZMQ_0.3-1         tools_3.4.1          crayon_1.3.4        \n",
       " [7] uuid_0.1-2           stringi_1.1.5        IRkernel_0.8.12.9000\n",
       "[10] jsonlite_1.5         stringr_1.2.0        digest_0.6.13       \n",
       "[13] repr_0.12.0          evaluate_0.10.1     "
      ]
     },
     "metadata": {},
     "output_type": "display_data"
    },
    {
     "name": "stderr",
     "output_type": "stream",
     "text": [
      "Warning message:\n",
      "“replacing previous import ‘GenomicRanges::shift’ by ‘data.table::shift’ when loading ‘bamUtils’”Warning message:\n",
      "“replacing previous import ‘GenomicAlignments::second’ by ‘data.table::second’ when loading ‘bamUtils’”Warning message:\n",
      "“replacing previous import ‘GenomicAlignments::last’ by ‘data.table::last’ when loading ‘bamUtils’”Warning message:\n",
      "“replacing previous import ‘GenomicAlignments::first’ by ‘data.table::first’ when loading ‘bamUtils’”Warning message:\n",
      "“replacing previous import ‘GenomicRanges::shift’ by ‘data.table::shift’ when loading ‘Ppurple’”"
     ]
    }
   ],
   "source": [
    "sessionInfo()\n",
    "suppressPackageStartupMessages(library(Ppurple))"
   ]
  },
  {
   "cell_type": "markdown",
   "metadata": {},
   "source": [
    "## Load coverage, hets, and segs"
   ]
  },
  {
   "cell_type": "code",
   "execution_count": 2,
   "metadata": {
    "collapsed": false
   },
   "outputs": [
    {
     "data": {
      "text/html": [
       "<table>\n",
       "<thead><tr><th scope=col>seqnames</th><th scope=col>start</th><th scope=col>end</th><th scope=col>width</th><th scope=col>strand</th><th scope=col>ratio</th><th scope=col>tum.counts</th><th scope=col>norm.counts</th><th scope=col>y</th></tr></thead>\n",
       "<tbody>\n",
       "\t<tr><td>9        </td><td> 57584801</td><td> 57585000</td><td>200      </td><td>*        </td><td>       NA</td><td>       NA</td><td>       NA</td><td>       NA</td></tr>\n",
       "\t<tr><td>12       </td><td>  3410201</td><td>  3410400</td><td>200      </td><td>*        </td><td>0.8453500</td><td>0.8596121</td><td>0.9817843</td><td>0.8453500</td></tr>\n",
       "\t<tr><td>17       </td><td> 27437401</td><td> 27437600</td><td>200      </td><td>*        </td><td>0.8585241</td><td>1.0653026</td><td>1.1980380</td><td>0.8585241</td></tr>\n",
       "\t<tr><td>5        </td><td>163569001</td><td>163569200</td><td>200      </td><td>*        </td><td>1.0817177</td><td>1.1726743</td><td>1.0466792</td><td>1.0817177</td></tr>\n",
       "\t<tr><td>11       </td><td> 63494201</td><td> 63494400</td><td>200      </td><td>*        </td><td>0.7240008</td><td>0.7616872</td><td>1.0157520</td><td>0.7240008</td></tr>\n",
       "\t<tr><td>12       </td><td> 54107601</td><td> 54107800</td><td>200      </td><td>*        </td><td>0.8295073</td><td>0.9813019</td><td>1.1421747</td><td>0.8295073</td></tr>\n",
       "</tbody>\n",
       "</table>\n"
      ],
      "text/latex": [
       "\\begin{tabular}{r|lllllllll}\n",
       " seqnames & start & end & width & strand & ratio & tum.counts & norm.counts & y\\\\\n",
       "\\hline\n",
       "\t 9         &  57584801 &  57585000 & 200       & *         &        NA &        NA &        NA &        NA\\\\\n",
       "\t 12        &   3410201 &   3410400 & 200       & *         & 0.8453500 & 0.8596121 & 0.9817843 & 0.8453500\\\\\n",
       "\t 17        &  27437401 &  27437600 & 200       & *         & 0.8585241 & 1.0653026 & 1.1980380 & 0.8585241\\\\\n",
       "\t 5         & 163569001 & 163569200 & 200       & *         & 1.0817177 & 1.1726743 & 1.0466792 & 1.0817177\\\\\n",
       "\t 11        &  63494201 &  63494400 & 200       & *         & 0.7240008 & 0.7616872 & 1.0157520 & 0.7240008\\\\\n",
       "\t 12        &  54107601 &  54107800 & 200       & *         & 0.8295073 & 0.9813019 & 1.1421747 & 0.8295073\\\\\n",
       "\\end{tabular}\n"
      ],
      "text/markdown": [
       "\n",
       "seqnames | start | end | width | strand | ratio | tum.counts | norm.counts | y | \n",
       "|---|---|---|---|---|---|\n",
       "| 9         |  57584801 |  57585000 | 200       | *         |        NA |        NA |        NA |        NA | \n",
       "| 12        |   3410201 |   3410400 | 200       | *         | 0.8453500 | 0.8596121 | 0.9817843 | 0.8453500 | \n",
       "| 17        |  27437401 |  27437600 | 200       | *         | 0.8585241 | 1.0653026 | 1.1980380 | 0.8585241 | \n",
       "| 5         | 163569001 | 163569200 | 200       | *         | 1.0817177 | 1.1726743 | 1.0466792 | 1.0817177 | \n",
       "| 11        |  63494201 |  63494400 | 200       | *         | 0.7240008 | 0.7616872 | 1.0157520 | 0.7240008 | \n",
       "| 12        |  54107601 |  54107800 | 200       | *         | 0.8295073 | 0.9813019 | 1.1421747 | 0.8295073 | \n",
       "\n",
       "\n"
      ],
      "text/plain": [
       "  seqnames start     end       width strand ratio     tum.counts norm.counts\n",
       "1 9         57584801  57585000 200   *             NA        NA         NA  \n",
       "2 12         3410201   3410400 200   *      0.8453500 0.8596121  0.9817843  \n",
       "3 17        27437401  27437600 200   *      0.8585241 1.0653026  1.1980380  \n",
       "4 5        163569001 163569200 200   *      1.0817177 1.1726743  1.0466792  \n",
       "5 11        63494201  63494400 200   *      0.7240008 0.7616872  1.0157520  \n",
       "6 12        54107601  54107800 200   *      0.8295073 0.9813019  1.1421747  \n",
       "  y        \n",
       "1        NA\n",
       "2 0.8453500\n",
       "3 0.8585241\n",
       "4 1.0817177\n",
       "5 0.7240008\n",
       "6 0.8295073"
      ]
     },
     "metadata": {},
     "output_type": "display_data"
    }
   ],
   "source": [
    "cov = fread(system.file(\"extdata\", \"coverage.csv\", package = \"Ppurple\"))\n",
    "head(cov)"
   ]
  },
  {
   "cell_type": "code",
   "execution_count": 3,
   "metadata": {
    "collapsed": false
   },
   "outputs": [
    {
     "data": {
      "text/html": [
       "<table>\n",
       "<thead><tr><th scope=col>seqnames</th><th scope=col>start</th><th scope=col>end</th><th scope=col>Tumor_Seq_Allele1</th><th scope=col>Reference_Allele</th><th scope=col>ref.count.t</th><th scope=col>alt.count.t</th><th scope=col>ref.count.n</th><th scope=col>alt.count.n</th><th scope=col>alt.frac.t</th><th scope=col>ref.frac.t</th><th scope=col>alt.frac.n</th><th scope=col>ref.frac.n</th><th scope=col>alt</th><th scope=col>ref</th></tr></thead>\n",
       "<tbody>\n",
       "\t<tr><td>12       </td><td> 14628069</td><td> 14628069</td><td>G        </td><td>A        </td><td> 6       </td><td>31       </td><td>11       </td><td>20       </td><td>0.8378378</td><td>0.1621622</td><td>0.6451613</td><td>0.3548387</td><td>31       </td><td> 6       </td></tr>\n",
       "\t<tr><td>10       </td><td> 96954298</td><td> 96954298</td><td>G        </td><td>A        </td><td>25       </td><td>22       </td><td>27       </td><td>26       </td><td>0.4680851</td><td>0.5319149</td><td>0.4905660</td><td>0.5094340</td><td>22       </td><td>25       </td></tr>\n",
       "\t<tr><td>2        </td><td> 51229355</td><td> 51229355</td><td>A        </td><td>C        </td><td>27       </td><td>25       </td><td>24       </td><td>42       </td><td>0.4807692</td><td>0.5192308</td><td>0.6363636</td><td>0.3636364</td><td>25       </td><td>27       </td></tr>\n",
       "\t<tr><td>X        </td><td> 43498623</td><td> 43498623</td><td>G        </td><td>A        </td><td>10       </td><td>10       </td><td>22       </td><td>25       </td><td>0.5000000</td><td>0.5000000</td><td>0.5319149</td><td>0.4680851</td><td>10       </td><td>10       </td></tr>\n",
       "\t<tr><td>11       </td><td> 97932192</td><td> 97932192</td><td>G        </td><td>A        </td><td>12       </td><td> 4       </td><td>15       </td><td>17       </td><td>0.2500000</td><td>0.7500000</td><td>0.5312500</td><td>0.4687500</td><td> 4       </td><td>12       </td></tr>\n",
       "\t<tr><td>5        </td><td>145511921</td><td>145511921</td><td>A        </td><td>G        </td><td> 4       </td><td>27       </td><td>13       </td><td>19       </td><td>0.8709677</td><td>0.1290323</td><td>0.5937500</td><td>0.4062500</td><td>27       </td><td> 4       </td></tr>\n",
       "</tbody>\n",
       "</table>\n"
      ],
      "text/latex": [
       "\\begin{tabular}{r|lllllllllllllll}\n",
       " seqnames & start & end & Tumor\\_Seq\\_Allele1 & Reference\\_Allele & ref.count.t & alt.count.t & ref.count.n & alt.count.n & alt.frac.t & ref.frac.t & alt.frac.n & ref.frac.n & alt & ref\\\\\n",
       "\\hline\n",
       "\t 12        &  14628069 &  14628069 & G         & A         &  6        & 31        & 11        & 20        & 0.8378378 & 0.1621622 & 0.6451613 & 0.3548387 & 31        &  6       \\\\\n",
       "\t 10        &  96954298 &  96954298 & G         & A         & 25        & 22        & 27        & 26        & 0.4680851 & 0.5319149 & 0.4905660 & 0.5094340 & 22        & 25       \\\\\n",
       "\t 2         &  51229355 &  51229355 & A         & C         & 27        & 25        & 24        & 42        & 0.4807692 & 0.5192308 & 0.6363636 & 0.3636364 & 25        & 27       \\\\\n",
       "\t X         &  43498623 &  43498623 & G         & A         & 10        & 10        & 22        & 25        & 0.5000000 & 0.5000000 & 0.5319149 & 0.4680851 & 10        & 10       \\\\\n",
       "\t 11        &  97932192 &  97932192 & G         & A         & 12        &  4        & 15        & 17        & 0.2500000 & 0.7500000 & 0.5312500 & 0.4687500 &  4        & 12       \\\\\n",
       "\t 5         & 145511921 & 145511921 & A         & G         &  4        & 27        & 13        & 19        & 0.8709677 & 0.1290323 & 0.5937500 & 0.4062500 & 27        &  4       \\\\\n",
       "\\end{tabular}\n"
      ],
      "text/markdown": [
       "\n",
       "seqnames | start | end | Tumor_Seq_Allele1 | Reference_Allele | ref.count.t | alt.count.t | ref.count.n | alt.count.n | alt.frac.t | ref.frac.t | alt.frac.n | ref.frac.n | alt | ref | \n",
       "|---|---|---|---|---|---|\n",
       "| 12        |  14628069 |  14628069 | G         | A         |  6        | 31        | 11        | 20        | 0.8378378 | 0.1621622 | 0.6451613 | 0.3548387 | 31        |  6        | \n",
       "| 10        |  96954298 |  96954298 | G         | A         | 25        | 22        | 27        | 26        | 0.4680851 | 0.5319149 | 0.4905660 | 0.5094340 | 22        | 25        | \n",
       "| 2         |  51229355 |  51229355 | A         | C         | 27        | 25        | 24        | 42        | 0.4807692 | 0.5192308 | 0.6363636 | 0.3636364 | 25        | 27        | \n",
       "| X         |  43498623 |  43498623 | G         | A         | 10        | 10        | 22        | 25        | 0.5000000 | 0.5000000 | 0.5319149 | 0.4680851 | 10        | 10        | \n",
       "| 11        |  97932192 |  97932192 | G         | A         | 12        |  4        | 15        | 17        | 0.2500000 | 0.7500000 | 0.5312500 | 0.4687500 |  4        | 12        | \n",
       "| 5         | 145511921 | 145511921 | A         | G         |  4        | 27        | 13        | 19        | 0.8709677 | 0.1290323 | 0.5937500 | 0.4062500 | 27        |  4        | \n",
       "\n",
       "\n"
      ],
      "text/plain": [
       "  seqnames start     end       Tumor_Seq_Allele1 Reference_Allele ref.count.t\n",
       "1 12        14628069  14628069 G                 A                 6         \n",
       "2 10        96954298  96954298 G                 A                25         \n",
       "3 2         51229355  51229355 A                 C                27         \n",
       "4 X         43498623  43498623 G                 A                10         \n",
       "5 11        97932192  97932192 G                 A                12         \n",
       "6 5        145511921 145511921 A                 G                 4         \n",
       "  alt.count.t ref.count.n alt.count.n alt.frac.t ref.frac.t alt.frac.n\n",
       "1 31          11          20          0.8378378  0.1621622  0.6451613 \n",
       "2 22          27          26          0.4680851  0.5319149  0.4905660 \n",
       "3 25          24          42          0.4807692  0.5192308  0.6363636 \n",
       "4 10          22          25          0.5000000  0.5000000  0.5319149 \n",
       "5  4          15          17          0.2500000  0.7500000  0.5312500 \n",
       "6 27          13          19          0.8709677  0.1290323  0.5937500 \n",
       "  ref.frac.n alt ref\n",
       "1 0.3548387  31   6 \n",
       "2 0.5094340  22  25 \n",
       "3 0.3636364  25  27 \n",
       "4 0.4680851  10  10 \n",
       "5 0.4687500   4  12 \n",
       "6 0.4062500  27   4 "
      ]
     },
     "metadata": {},
     "output_type": "display_data"
    }
   ],
   "source": [
    "hets = fread(system.file(\"extdata\", \"hets.csv\", package = \"Ppurple\"))\n",
    "head(hets)"
   ]
  },
  {
   "cell_type": "markdown",
   "metadata": {},
   "source": [
    "## Run Ppurple without segs"
   ]
  },
  {
   "cell_type": "code",
   "execution_count": 4,
   "metadata": {
    "collapsed": false
   },
   "outputs": [
    {
     "name": "stderr",
     "output_type": "stream",
     "text": [
      "Segments not provided so doing internal segmentation via DNAcopy\n"
     ]
    },
    {
     "name": "stdout",
     "output_type": "stream",
     "text": [
      "sending  92654  segments to DNAcopy\n"
     ]
    },
    {
     "name": "stderr",
     "output_type": "stream",
     "text": [
      "\t ..finished segmentation\n",
      "Fitting initial grid of 11 purity and 21 ploidy combinations.\n",
      "Warning message in dt2gr(hets):\n",
      "“coercing to GRanges via non-standard columns”Warning message in seg2gr(dt, seqlengths, seqinfo):\n",
      "“some seqnames in seg object were not included in provided seqlengths: MT”Running hapseg on hets\n",
      "Hapseg iteration 1:\n",
      "\t\tLL diff: 1e+100 tol:1\n",
      "Hapseg iteration 2:\n",
      "\t\tLL diff: 5.17692387802526e-06 tol:1\n",
      "Running ppemgrid with 11 purities ranging from 0 to 1 and 21 ploidies ranging from 1 to 5 with rho of 1.00978885796089 het rho of 22.283605.\n",
      "Starting Ppurple EM with total segment grid containing 417383 rows\n",
      "Ppurple EM iteration 1 :\n",
      "\t\tLL diff:1e+100 tol: 1\n",
      "Ppurple EM iteration 2 :\n",
      "\t\tLL diff:82518.304838251 tol: 1\n",
      "Ppurple EM iteration 3 :\n",
      "\t\tLL diff:3501.66703561251 tol: 1\n",
      "Ppurple EM iteration 4 :\n",
      "\t\tLL diff:463.09210821474 tol: 1\n",
      "Ppurple EM iteration 5 :\n",
      "\t\tLL diff:232.854345674743 tol: 1\n",
      "Ppurple EM iteration 6 :\n",
      "\t\tLL diff:45.9603614601074 tol: 1\n",
      "Ppurple EM iteration 7 :\n",
      "\t\tLL diff:3.8404559668852 tol: 1\n",
      "Ppurple EM iteration 8 :\n",
      "\t\tLL diff:0.246806828421541 tol: 1\n",
      "Refining purities around initially provided ploidies\n",
      "Refining 441 solutions around 1 pixels from first round\n",
      "Running ppemgrid with 21 purities ranging from 0.4 to 0.6 and 21 ploidies ranging from 1 to 5 with rho of 1.00978885796089 het rho of 22.283605.\n",
      "Starting Ppurple EM with total segment grid containing 814181 rows\n",
      "Ppurple EM iteration 1 :\n",
      "\t\tLL diff:1e+100 tol: 1\n",
      "Ppurple EM iteration 2 :\n",
      "\t\tLL diff:82552.8691903101 tol: 1\n",
      "Ppurple EM iteration 3 :\n",
      "\t\tLL diff:3495.7092190577 tol: 1\n",
      "Ppurple EM iteration 4 :\n",
      "\t\tLL diff:581.889923030394 tol: 1\n",
      "Ppurple EM iteration 5 :\n",
      "\t\tLL diff:437.3385935775 tol: 1\n",
      "Ppurple EM iteration 6 :\n",
      "\t\tLL diff:120.305159088573 tol: 1\n",
      "Ppurple EM iteration 7 :\n",
      "\t\tLL diff:20.2172404708108 tol: 1\n",
      "Ppurple EM iteration 8 :\n",
      "\t\tLL diff:1.86716541438363 tol: 1\n",
      "Ppurple EM iteration 9 :\n",
      "\t\tLL diff:0.394750531762838 tol: 1\n",
      "Refining purities and ploidies together\n",
      "Refining 147 solutions around 5 pixels from second round\n",
      "Running ppemgrid with 7 purities ranging from 0.46 to 0.52 and 21 ploidies ranging from 3.6 to 4 with rho of 1.00978885796089 het rho of 22.283605.\n",
      "Starting Ppurple EM with total segment grid containing 311791 rows\n",
      "Ppurple EM iteration 1 :\n",
      "\t\tLL diff:1e+100 tol: 1\n",
      "Ppurple EM iteration 2 :\n",
      "\t\tLL diff:82615.9086692655 tol: 1\n",
      "Ppurple EM iteration 3 :\n",
      "\t\tLL diff:58.2742695834022 tol: 1\n",
      "Ppurple EM iteration 4 :\n",
      "\t\tLL diff:0.912960716173984 tol: 1\n"
     ]
    }
   ],
   "source": [
    "pp = ppurple(cov = cov, hets = hets, verbose = TRUE)"
   ]
  },
  {
   "cell_type": "markdown",
   "metadata": {},
   "source": [
    "### output is a data.table of likely solution and their probability, showing the most likely solution in the first row"
   ]
  },
  {
   "cell_type": "code",
   "execution_count": 6,
   "metadata": {
    "collapsed": false
   },
   "outputs": [
    {
     "data": {
      "text/html": [
       "<table>\n",
       "<thead><tr><th scope=col>purity</th><th scope=col>ploidy</th><th scope=col>prob</th></tr></thead>\n",
       "<tbody>\n",
       "\t<tr><td>0.49</td><td>3.86</td><td>1   </td></tr>\n",
       "</tbody>\n",
       "</table>\n"
      ],
      "text/latex": [
       "\\begin{tabular}{r|lll}\n",
       " purity & ploidy & prob\\\\\n",
       "\\hline\n",
       "\t 0.49 & 3.86 & 1   \\\\\n",
       "\\end{tabular}\n"
      ],
      "text/markdown": [
       "\n",
       "purity | ploidy | prob | \n",
       "|---|\n",
       "| 0.49 | 3.86 | 1    | \n",
       "\n",
       "\n"
      ],
      "text/plain": [
       "  purity ploidy prob\n",
       "1 0.49   3.86   1   "
      ]
     },
     "metadata": {},
     "output_type": "display_data"
    }
   ],
   "source": [
    "pp[1,]"
   ]
  },
  {
   "cell_type": "markdown",
   "metadata": {},
   "source": [
    "## Run Ppurple with pre-computed segs"
   ]
  },
  {
   "cell_type": "code",
   "execution_count": 7,
   "metadata": {
    "collapsed": false
   },
   "outputs": [
    {
     "data": {
      "text/html": [
       "<table>\n",
       "<thead><tr><th scope=col>seqnames</th><th scope=col>start</th><th scope=col>end</th><th scope=col>width</th><th scope=col>strand</th><th scope=col>ID</th><th scope=col>num.mark</th><th scope=col>seg.mean</th></tr></thead>\n",
       "<tbody>\n",
       "\t<tr><td>1       </td><td>   79401</td><td> 6376801</td><td> 6297401</td><td>*       </td><td>Sample.1</td><td>183     </td><td> 0.0683 </td></tr>\n",
       "\t<tr><td>1       </td><td> 6437801</td><td> 8702401</td><td> 2264601</td><td>*       </td><td>Sample.1</td><td> 76     </td><td>-0.0967 </td></tr>\n",
       "\t<tr><td>1       </td><td> 8758201</td><td> 9043001</td><td>  284801</td><td>*       </td><td>Sample.1</td><td>  9     </td><td> 0.1808 </td></tr>\n",
       "\t<tr><td>1       </td><td> 9080201</td><td>20046801</td><td>10966601</td><td>*       </td><td>Sample.1</td><td>347     </td><td>-0.1132 </td></tr>\n",
       "\t<tr><td>1       </td><td>20113201</td><td>23387801</td><td> 3274601</td><td>*       </td><td>Sample.1</td><td>102     </td><td> 0.0931 </td></tr>\n",
       "\t<tr><td>1       </td><td>23421201</td><td>48154401</td><td>24733201</td><td>*       </td><td>Sample.1</td><td>795     </td><td>-0.1152 </td></tr>\n",
       "</tbody>\n",
       "</table>\n"
      ],
      "text/latex": [
       "\\begin{tabular}{r|llllllll}\n",
       " seqnames & start & end & width & strand & ID & num.mark & seg.mean\\\\\n",
       "\\hline\n",
       "\t 1        &    79401 &  6376801 &  6297401 & *        & Sample.1 & 183      &  0.0683 \\\\\n",
       "\t 1        &  6437801 &  8702401 &  2264601 & *        & Sample.1 &  76      & -0.0967 \\\\\n",
       "\t 1        &  8758201 &  9043001 &   284801 & *        & Sample.1 &   9      &  0.1808 \\\\\n",
       "\t 1        &  9080201 & 20046801 & 10966601 & *        & Sample.1 & 347      & -0.1132 \\\\\n",
       "\t 1        & 20113201 & 23387801 &  3274601 & *        & Sample.1 & 102      &  0.0931 \\\\\n",
       "\t 1        & 23421201 & 48154401 & 24733201 & *        & Sample.1 & 795      & -0.1152 \\\\\n",
       "\\end{tabular}\n"
      ],
      "text/markdown": [
       "\n",
       "seqnames | start | end | width | strand | ID | num.mark | seg.mean | \n",
       "|---|---|---|---|---|---|\n",
       "| 1        |    79401 |  6376801 |  6297401 | *        | Sample.1 | 183      |  0.0683  | \n",
       "| 1        |  6437801 |  8702401 |  2264601 | *        | Sample.1 |  76      | -0.0967  | \n",
       "| 1        |  8758201 |  9043001 |   284801 | *        | Sample.1 |   9      |  0.1808  | \n",
       "| 1        |  9080201 | 20046801 | 10966601 | *        | Sample.1 | 347      | -0.1132  | \n",
       "| 1        | 20113201 | 23387801 |  3274601 | *        | Sample.1 | 102      |  0.0931  | \n",
       "| 1        | 23421201 | 48154401 | 24733201 | *        | Sample.1 | 795      | -0.1152  | \n",
       "\n",
       "\n"
      ],
      "text/plain": [
       "  seqnames start    end      width    strand ID       num.mark seg.mean\n",
       "1 1           79401  6376801  6297401 *      Sample.1 183       0.0683 \n",
       "2 1         6437801  8702401  2264601 *      Sample.1  76      -0.0967 \n",
       "3 1         8758201  9043001   284801 *      Sample.1   9       0.1808 \n",
       "4 1         9080201 20046801 10966601 *      Sample.1 347      -0.1132 \n",
       "5 1        20113201 23387801  3274601 *      Sample.1 102       0.0931 \n",
       "6 1        23421201 48154401 24733201 *      Sample.1 795      -0.1152 "
      ]
     },
     "metadata": {},
     "output_type": "display_data"
    }
   ],
   "source": [
    "segs = fread(system.file(\"extdata\", \"segs.csv\", package = \"Ppurple\"))\n",
    "head(segs)"
   ]
  },
  {
   "cell_type": "code",
   "execution_count": 8,
   "metadata": {
    "collapsed": false
   },
   "outputs": [
    {
     "name": "stderr",
     "output_type": "stream",
     "text": [
      "Fitting initial grid of 11 purity and 21 ploidy combinations.\n",
      "Warning message in dt2gr(hets):\n",
      "“coercing to GRanges via non-standard columns”Warning message in seg2gr(dt, seqlengths, seqinfo):\n",
      "“some seqnames in seg object were not included in provided seqlengths: MT”Running hapseg on hets\n",
      "Hapseg iteration 1:\n",
      "\t\tLL diff: 1e+100 tol:1\n",
      "Hapseg iteration 2:\n",
      "\t\tLL diff: 5.17692387802526e-06 tol:1\n",
      "Running ppemgrid with 11 purities ranging from 0 to 1 and 21 ploidies ranging from 1 to 5 with rho of 1.00978885796089 het rho of 22.283605.\n",
      "Starting Ppurple EM with total segment grid containing 418205 rows\n",
      "Ppurple EM iteration 1 :\n",
      "\t\tLL diff:1e+100 tol: 1\n",
      "Ppurple EM iteration 2 :\n",
      "\t\tLL diff:83329.6578186775 tol: 1\n",
      "Ppurple EM iteration 3 :\n",
      "\t\tLL diff:3627.50625560305 tol: 1\n",
      "Ppurple EM iteration 4 :\n",
      "\t\tLL diff:465.634625959443 tol: 1\n",
      "Ppurple EM iteration 5 :\n",
      "\t\tLL diff:240.246137164067 tol: 1\n",
      "Ppurple EM iteration 6 :\n",
      "\t\tLL diff:45.9618569879094 tol: 1\n",
      "Ppurple EM iteration 7 :\n",
      "\t\tLL diff:1.54196306038648 tol: 1\n",
      "Ppurple EM iteration 8 :\n",
      "\t\tLL diff:9.52170259691775 tol: 1\n",
      "Ppurple EM iteration 9 :\n",
      "\t\tLL diff:4.58462760364637 tol: 1\n",
      "Ppurple EM iteration 10 :\n",
      "\t\tLL diff:0.000582731212489307 tol: 1\n",
      "Refining purities around initially provided ploidies\n",
      "Refining 441 solutions around 1 pixels from first round\n",
      "Running ppemgrid with 21 purities ranging from 0.4 to 0.6 and 21 ploidies ranging from 1 to 5 with rho of 1.00978885796089 het rho of 22.283605.\n",
      "Starting Ppurple EM with total segment grid containing 816490 rows\n",
      "Ppurple EM iteration 1 :\n",
      "\t\tLL diff:1e+100 tol: 1\n",
      "Ppurple EM iteration 2 :\n",
      "\t\tLL diff:83371.9437954938 tol: 1\n",
      "Ppurple EM iteration 3 :\n",
      "\t\tLL diff:3623.03889269067 tol: 1\n",
      "Ppurple EM iteration 4 :\n",
      "\t\tLL diff:542.343763987301 tol: 1\n",
      "Ppurple EM iteration 5 :\n",
      "\t\tLL diff:442.654972745222 tol: 1\n",
      "Ppurple EM iteration 6 :\n",
      "\t\tLL diff:93.9110535393702 tol: 1\n",
      "Ppurple EM iteration 7 :\n",
      "\t\tLL diff:17.2331985867349 tol: 1\n",
      "Ppurple EM iteration 8 :\n",
      "\t\tLL diff:7.85434257413726 tol: 1\n",
      "Ppurple EM iteration 9 :\n",
      "\t\tLL diff:4.58462760364637 tol: 1\n",
      "Ppurple EM iteration 10 :\n",
      "\t\tLL diff:0.0704232092248276 tol: 1\n",
      "Refining purities and ploidies together\n",
      "Refining 147 solutions around 5 pixels from second round\n",
      "Running ppemgrid with 7 purities ranging from 0.46 to 0.52 and 21 ploidies ranging from 3.6 to 4 with rho of 1.00978885796089 het rho of 22.283605.\n",
      "Starting Ppurple EM with total segment grid containing 312567 rows\n",
      "Ppurple EM iteration 1 :\n",
      "\t\tLL diff:1e+100 tol: 1\n",
      "Ppurple EM iteration 2 :\n",
      "\t\tLL diff:83435.6607775348 tol: 1\n",
      "Ppurple EM iteration 3 :\n",
      "\t\tLL diff:58.6840663431212 tol: 1\n",
      "Ppurple EM iteration 4 :\n",
      "\t\tLL diff:0.864216329413466 tol: 1\n"
     ]
    }
   ],
   "source": [
    "pp = ppurple(cov = cov, hets = hets, segs = segs, verbose = TRUE)"
   ]
  },
  {
   "cell_type": "code",
   "execution_count": 9,
   "metadata": {
    "collapsed": false
   },
   "outputs": [
    {
     "data": {
      "text/html": [
       "<table>\n",
       "<thead><tr><th scope=col>purity</th><th scope=col>ploidy</th><th scope=col>prob</th></tr></thead>\n",
       "<tbody>\n",
       "\t<tr><td>0.49</td><td>3.86</td><td>1   </td></tr>\n",
       "</tbody>\n",
       "</table>\n"
      ],
      "text/latex": [
       "\\begin{tabular}{r|lll}\n",
       " purity & ploidy & prob\\\\\n",
       "\\hline\n",
       "\t 0.49 & 3.86 & 1   \\\\\n",
       "\\end{tabular}\n"
      ],
      "text/markdown": [
       "\n",
       "purity | ploidy | prob | \n",
       "|---|\n",
       "| 0.49 | 3.86 | 1    | \n",
       "\n",
       "\n"
      ],
      "text/plain": [
       "  purity ploidy prob\n",
       "1 0.49   3.86   1   "
      ]
     },
     "metadata": {},
     "output_type": "display_data"
    }
   ],
   "source": [
    "pp[1,]"
   ]
  }
 ],
 "metadata": {
  "kernelspec": {
   "display_name": "R 3.4.1",
   "language": "R",
   "name": "ir"
  },
  "language_info": {
   "codemirror_mode": "r",
   "file_extension": ".r",
   "mimetype": "text/x-r-source",
   "name": "R",
   "pygments_lexer": "r",
   "version": "3.4.1"
  }
 },
 "nbformat": 4,
 "nbformat_minor": 1
}
